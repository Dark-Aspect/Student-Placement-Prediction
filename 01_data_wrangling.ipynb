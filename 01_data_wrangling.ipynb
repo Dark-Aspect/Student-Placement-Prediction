{
 "cells": [
  {
   "cell_type": "markdown",
   "id": "6cf2ab0d",
   "metadata": {},
   "source": [
    "<div style=\"text-align: center;\">\n",
    "  <img src=\"Images/Placement.png\" alt=\"Placement Illustration\" width=\"600\"/>\n",
    "</div>"
   ]
  },
  {
   "cell_type": "markdown",
   "id": "607a1fe6",
   "metadata": {},
   "source": [
    "## Hello!\n",
    "This is a project utilizing the **Placement Prediction Dataset** to analyze and predict student placement outcomes. By exploring this dataset, we aim to identify key factors that influence placement success and develop machine learning models for accurate classification of placement status.  \n",
    "\n",
    "The dataset, available on [Kaggle](https://www.kaggle.com/datasets/ruchikakumbhar/placement-prediction-dataset), contains **10,000 rows** and **12 columns**, providing detailed academic and extracurricular records of students, along with their placement status. It is well-structured with no missing values, making it suitable for analysis and classification tasks. "
   ]
  },
  {
   "cell_type": "markdown",
   "id": "28f68835",
   "metadata": {},
   "source": [
    "#### Dataset Overview\n",
    "The dataset includes the following features:  \n",
    "\n",
    "1. **CGPA**: Cumulative Grade Point Average, representing a student’s overall academic performance.  \n",
    "2. **Internships**: The number of internships completed by a student.  \n",
    "3. **Projects**: Number of projects undertaken by the student.  \n",
    "4. **Workshops/Certifications**: Participation in workshops and online courses for skill enhancement.  \n",
    "5. **Aptitude Test Score**: Measures a student’s quantitative and logical reasoning skills, often used in recruitment.  \n",
    "6. **Soft Skills Rating**: Assesses communication and interpersonal skills.  \n",
    "7. **Extracurricular Activities**: Indicates student involvement in non-academic activities.  \n",
    "8. **Placement Training**: Training programs provided by colleges to help students prepare for placement.  \n",
    "9. **SSC & HSC Marks**: Academic performance in Senior Secondary (SSC) and Higher Secondary (HSC) levels.  \n",
    "10. **Placement Status**: The target variable, indicating whether a student was **Placed** or **Not Placed**.  \n",
    "\n",
    "#### Project Inspiration  \n",
    "This project is inspired by the need to analyze key factors affecting student placements and build predictive models to assist career guidance efforts. Understanding the most influential attributes can help students and institutions improve placement strategies.  \n",
    "\n",
    "#### Goals of the Project  \n",
    "1. **Data Analysis**: Explore the dataset to identify trends and correlations among academic, training, and extracurricular features.  \n",
    "2. **Classification Models**: Develop and evaluate machine learning models to predict placement status based on the provided features.  \n",
    "\n",
    "#### Dataset Overview\n",
    "The dataset includes the following features:  \n",
    "\n",
    "1. **CGPA**: Cumulative Grade Point Average, representing a student’s overall academic performance.  \n",
    "2. **Internships**: The number of internships completed by a student.  \n",
    "3. **Projects**: Number of projects undertaken by the student.  \n",
    "4. **Workshops/Certifications**: Participation in workshops and online courses for skill enhancement.  \n",
    "5. **Aptitude Test Score**: Measures a student’s quantitative and logical reasoning skills, often used in recruitment.  \n",
    "6. **Soft Skills Rating**: Assesses communication and interpersonal skills.  \n",
    "7. **Extracurricular Activities**: Indicates student involvement in non-academic activities.  \n",
    "8. **Placement Training**: Training programs provided by colleges to help students prepare for placement.  \n",
    "9. **SSC & HSC Marks**: Academic performance in Senior Secondary (SSC) and Higher Secondary (HSC) levels.  \n",
    "10. **Placement Status**: The target variable, indicating whether a student was **Placed** or **Not Placed**.  \n",
    "\n",
    "#### Project Inspiration  \n",
    "This project is inspired by the need to analyze key factors affecting student placements and build predictive models to assist career guidance efforts. Understanding the most influential attributes can help students and institutions improve placement strategies.  \n",
    "\n",
    "#### Goals of the Project  \n",
    "1. **Data Analysis**: Explore the dataset to identify trends and correlations among academic, training, and extracurricular features.  \n",
    "2. **Classification Models**: Develop and evaluate machine learning models to predict placement status based on the provided features.  \n",
    "\n",
    "> ⚠️ *Disclaimer*: The goal is to build predictive tools and derive insights—not to stereotype or oversimplify student capabilities. Ethical analysis and transparency are essential. "
   ]
  },
  {
   "cell_type": "code",
   "execution_count": null,
   "id": "7254fee6",
   "metadata": {},
   "outputs": [],
   "source": []
  },
  {
   "cell_type": "markdown",
   "id": "269889bd",
   "metadata": {},
   "source": [
    "# **Step 1: Data Wrangling**\n",
    "\n",
    "This notebook covers the **data wrangling and preprocessing phase** of the Placement Prediction project. The goal is to clean, transform, and prepare the raw dataset for exploratory data analysis (EDA), modeling, and dashboard development.\n",
    "\n",
    "---\n",
    "\n",
    "### Objectives of This Notebook\n",
    "\n",
    "1. [Import Libraries and Load the Dataset](#import)  \n",
    "2. [Initial Inspection](#inspection)  \n",
    "3. [Handle Missing Values](#missing)  \n",
    "4. [Remove Duplicate Records](#duplicates)  \n",
    "5. [Rename Columns for Consistency](#rename)  \n",
    "6. [Save the Cleaned Dataset](#save)\n",
    "\n",
    "---\n",
    "\n",
    "### Next Steps\n",
    "\n",
    "- Step 2: [Exploratory Data Analysis (EDA) – Visual](./02_eda_visualization.ipynb)\n",
    "- Step 3: [EDA – SQL Queries](./03_eda_sql_queries.ipynb) \n",
    "- Step 4: [Modeling & Prediction](./04_modeling_prediction.ipynb)"
   ]
  },
  {
   "cell_type": "code",
   "execution_count": null,
   "id": "18517e77",
   "metadata": {},
   "outputs": [],
   "source": []
  },
  {
   "cell_type": "markdown",
   "id": "1a057a9b",
   "metadata": {},
   "source": [
    "---"
   ]
  },
  {
   "cell_type": "markdown",
   "id": "9b8e66d7",
   "metadata": {},
   "source": [
    "<a id=\"import\"></a>\n",
    "\n",
    "## **1.1 Import Libraries and Load the Dataset**\n",
    "\n",
    "We start by importing the necessary Python libraries and loading the dataset into a DataFrame."
   ]
  },
  {
   "cell_type": "code",
   "execution_count": 1,
   "id": "7d1c6fce",
   "metadata": {},
   "outputs": [],
   "source": [
    "# Pandas is a software library written for the Python programming language for data manipulation and analysis.\n",
    "import pandas as pd\n",
    "\n",
    "# NumPy is a Python library that supports fast operations on large, multi-dimensional arrays and provides a wide range of mathematical functions.\n",
    "import numpy as np\n",
    "\n",
    "# Import display function to render DataFrames or outputs neatly in the notebook\n",
    "from IPython.display import display"
   ]
  },
  {
   "cell_type": "code",
   "execution_count": 2,
   "id": "127ff17a",
   "metadata": {},
   "outputs": [
    {
     "name": "stdout",
     "output_type": "stream",
     "text": [
      "Previewing the raw dataset:\n"
     ]
    },
    {
     "data": {
      "text/html": [
       "<div>\n",
       "<style scoped>\n",
       "    .dataframe tbody tr th:only-of-type {\n",
       "        vertical-align: middle;\n",
       "    }\n",
       "\n",
       "    .dataframe tbody tr th {\n",
       "        vertical-align: top;\n",
       "    }\n",
       "\n",
       "    .dataframe thead th {\n",
       "        text-align: right;\n",
       "    }\n",
       "</style>\n",
       "<table border=\"1\" class=\"dataframe\">\n",
       "  <thead>\n",
       "    <tr style=\"text-align: right;\">\n",
       "      <th></th>\n",
       "      <th>StudentID</th>\n",
       "      <th>CGPA</th>\n",
       "      <th>Internships</th>\n",
       "      <th>Projects</th>\n",
       "      <th>Workshops/Certifications</th>\n",
       "      <th>AptitudeTestScore</th>\n",
       "      <th>SoftSkillsRating</th>\n",
       "      <th>ExtracurricularActivities</th>\n",
       "      <th>PlacementTraining</th>\n",
       "      <th>SSC_Marks</th>\n",
       "      <th>HSC_Marks</th>\n",
       "      <th>PlacementStatus</th>\n",
       "    </tr>\n",
       "  </thead>\n",
       "  <tbody>\n",
       "    <tr>\n",
       "      <th>0</th>\n",
       "      <td>1</td>\n",
       "      <td>7.5</td>\n",
       "      <td>1</td>\n",
       "      <td>1</td>\n",
       "      <td>1</td>\n",
       "      <td>65</td>\n",
       "      <td>4.4</td>\n",
       "      <td>No</td>\n",
       "      <td>No</td>\n",
       "      <td>61</td>\n",
       "      <td>79</td>\n",
       "      <td>NotPlaced</td>\n",
       "    </tr>\n",
       "    <tr>\n",
       "      <th>1</th>\n",
       "      <td>2</td>\n",
       "      <td>8.9</td>\n",
       "      <td>0</td>\n",
       "      <td>3</td>\n",
       "      <td>2</td>\n",
       "      <td>90</td>\n",
       "      <td>4.0</td>\n",
       "      <td>Yes</td>\n",
       "      <td>Yes</td>\n",
       "      <td>78</td>\n",
       "      <td>82</td>\n",
       "      <td>Placed</td>\n",
       "    </tr>\n",
       "    <tr>\n",
       "      <th>2</th>\n",
       "      <td>3</td>\n",
       "      <td>7.3</td>\n",
       "      <td>1</td>\n",
       "      <td>2</td>\n",
       "      <td>2</td>\n",
       "      <td>82</td>\n",
       "      <td>4.8</td>\n",
       "      <td>Yes</td>\n",
       "      <td>No</td>\n",
       "      <td>79</td>\n",
       "      <td>80</td>\n",
       "      <td>NotPlaced</td>\n",
       "    </tr>\n",
       "    <tr>\n",
       "      <th>3</th>\n",
       "      <td>4</td>\n",
       "      <td>7.5</td>\n",
       "      <td>1</td>\n",
       "      <td>1</td>\n",
       "      <td>2</td>\n",
       "      <td>85</td>\n",
       "      <td>4.4</td>\n",
       "      <td>Yes</td>\n",
       "      <td>Yes</td>\n",
       "      <td>81</td>\n",
       "      <td>80</td>\n",
       "      <td>Placed</td>\n",
       "    </tr>\n",
       "    <tr>\n",
       "      <th>4</th>\n",
       "      <td>5</td>\n",
       "      <td>8.3</td>\n",
       "      <td>1</td>\n",
       "      <td>2</td>\n",
       "      <td>2</td>\n",
       "      <td>86</td>\n",
       "      <td>4.5</td>\n",
       "      <td>Yes</td>\n",
       "      <td>Yes</td>\n",
       "      <td>74</td>\n",
       "      <td>88</td>\n",
       "      <td>Placed</td>\n",
       "    </tr>\n",
       "  </tbody>\n",
       "</table>\n",
       "</div>"
      ],
      "text/plain": [
       "   StudentID  CGPA  Internships  Projects  Workshops/Certifications  \\\n",
       "0          1   7.5            1         1                         1   \n",
       "1          2   8.9            0         3                         2   \n",
       "2          3   7.3            1         2                         2   \n",
       "3          4   7.5            1         1                         2   \n",
       "4          5   8.3            1         2                         2   \n",
       "\n",
       "   AptitudeTestScore  SoftSkillsRating ExtracurricularActivities  \\\n",
       "0                 65               4.4                        No   \n",
       "1                 90               4.0                       Yes   \n",
       "2                 82               4.8                       Yes   \n",
       "3                 85               4.4                       Yes   \n",
       "4                 86               4.5                       Yes   \n",
       "\n",
       "  PlacementTraining  SSC_Marks  HSC_Marks PlacementStatus  \n",
       "0                No         61         79       NotPlaced  \n",
       "1               Yes         78         82          Placed  \n",
       "2                No         79         80       NotPlaced  \n",
       "3               Yes         81         80          Placed  \n",
       "4               Yes         74         88          Placed  "
      ]
     },
     "metadata": {},
     "output_type": "display_data"
    }
   ],
   "source": [
    "# Load the dataset\n",
    "print(\"Previewing the raw dataset:\")\n",
    "df = pd.read_csv('placement_data.csv')\n",
    "display(df.head())"
   ]
  },
  {
   "cell_type": "markdown",
   "id": "acaf0a38",
   "metadata": {},
   "source": [
    "---"
   ]
  },
  {
   "cell_type": "markdown",
   "id": "5aac143f",
   "metadata": {},
   "source": [
    "<a id=\"inspection\"></a>\n",
    "\n",
    "## **1.2 Initial Inspection**\n",
    "\n",
    "We inspect the structure, data types, and basic info of the dataset."
   ]
  },
  {
   "cell_type": "code",
   "execution_count": 3,
   "id": "4bc467e2",
   "metadata": {},
   "outputs": [],
   "source": [
    "# Dropping the 'StudentID' feature\n",
    "df.drop(columns=['StudentID'],axis=1,inplace=True) "
   ]
  },
  {
   "cell_type": "code",
   "execution_count": 4,
   "id": "25efe7d8",
   "metadata": {},
   "outputs": [
    {
     "name": "stdout",
     "output_type": "stream",
     "text": [
      "Dataset Info:\n",
      "<class 'pandas.core.frame.DataFrame'>\n",
      "RangeIndex: 10000 entries, 0 to 9999\n",
      "Data columns (total 11 columns):\n",
      " #   Column                     Non-Null Count  Dtype  \n",
      "---  ------                     --------------  -----  \n",
      " 0   CGPA                       10000 non-null  float64\n",
      " 1   Internships                10000 non-null  int64  \n",
      " 2   Projects                   10000 non-null  int64  \n",
      " 3   Workshops/Certifications   10000 non-null  int64  \n",
      " 4   AptitudeTestScore          10000 non-null  int64  \n",
      " 5   SoftSkillsRating           10000 non-null  float64\n",
      " 6   ExtracurricularActivities  10000 non-null  object \n",
      " 7   PlacementTraining          10000 non-null  object \n",
      " 8   SSC_Marks                  10000 non-null  int64  \n",
      " 9   HSC_Marks                  10000 non-null  int64  \n",
      " 10  PlacementStatus            10000 non-null  object \n",
      "dtypes: float64(2), int64(6), object(3)\n",
      "memory usage: 859.5+ KB\n"
     ]
    },
    {
     "data": {
      "text/plain": [
       "None"
      ]
     },
     "metadata": {},
     "output_type": "display_data"
    }
   ],
   "source": [
    "# Display basic structure of the dataset\n",
    "print(\"Dataset Info:\")\n",
    "display(df.info())"
   ]
  },
  {
   "cell_type": "code",
   "execution_count": 5,
   "id": "8715f2e2",
   "metadata": {},
   "outputs": [
    {
     "name": "stdout",
     "output_type": "stream",
     "text": [
      "Numerical Summary:\n"
     ]
    },
    {
     "data": {
      "text/html": [
       "<div>\n",
       "<style scoped>\n",
       "    .dataframe tbody tr th:only-of-type {\n",
       "        vertical-align: middle;\n",
       "    }\n",
       "\n",
       "    .dataframe tbody tr th {\n",
       "        vertical-align: top;\n",
       "    }\n",
       "\n",
       "    .dataframe thead th {\n",
       "        text-align: right;\n",
       "    }\n",
       "</style>\n",
       "<table border=\"1\" class=\"dataframe\">\n",
       "  <thead>\n",
       "    <tr style=\"text-align: right;\">\n",
       "      <th></th>\n",
       "      <th>count</th>\n",
       "      <th>mean</th>\n",
       "      <th>std</th>\n",
       "      <th>min</th>\n",
       "      <th>25%</th>\n",
       "      <th>50%</th>\n",
       "      <th>75%</th>\n",
       "      <th>max</th>\n",
       "    </tr>\n",
       "  </thead>\n",
       "  <tbody>\n",
       "    <tr>\n",
       "      <th>CGPA</th>\n",
       "      <td>10000.0</td>\n",
       "      <td>7.69801</td>\n",
       "      <td>0.640131</td>\n",
       "      <td>6.5</td>\n",
       "      <td>7.4</td>\n",
       "      <td>7.7</td>\n",
       "      <td>8.2</td>\n",
       "      <td>9.1</td>\n",
       "    </tr>\n",
       "    <tr>\n",
       "      <th>Internships</th>\n",
       "      <td>10000.0</td>\n",
       "      <td>1.04920</td>\n",
       "      <td>0.665901</td>\n",
       "      <td>0.0</td>\n",
       "      <td>1.0</td>\n",
       "      <td>1.0</td>\n",
       "      <td>1.0</td>\n",
       "      <td>2.0</td>\n",
       "    </tr>\n",
       "    <tr>\n",
       "      <th>Projects</th>\n",
       "      <td>10000.0</td>\n",
       "      <td>2.02660</td>\n",
       "      <td>0.867968</td>\n",
       "      <td>0.0</td>\n",
       "      <td>1.0</td>\n",
       "      <td>2.0</td>\n",
       "      <td>3.0</td>\n",
       "      <td>3.0</td>\n",
       "    </tr>\n",
       "    <tr>\n",
       "      <th>Workshops/Certifications</th>\n",
       "      <td>10000.0</td>\n",
       "      <td>1.01320</td>\n",
       "      <td>0.904272</td>\n",
       "      <td>0.0</td>\n",
       "      <td>0.0</td>\n",
       "      <td>1.0</td>\n",
       "      <td>2.0</td>\n",
       "      <td>3.0</td>\n",
       "    </tr>\n",
       "    <tr>\n",
       "      <th>AptitudeTestScore</th>\n",
       "      <td>10000.0</td>\n",
       "      <td>79.44990</td>\n",
       "      <td>8.159997</td>\n",
       "      <td>60.0</td>\n",
       "      <td>73.0</td>\n",
       "      <td>80.0</td>\n",
       "      <td>87.0</td>\n",
       "      <td>90.0</td>\n",
       "    </tr>\n",
       "    <tr>\n",
       "      <th>SoftSkillsRating</th>\n",
       "      <td>10000.0</td>\n",
       "      <td>4.32396</td>\n",
       "      <td>0.411622</td>\n",
       "      <td>3.0</td>\n",
       "      <td>4.0</td>\n",
       "      <td>4.4</td>\n",
       "      <td>4.7</td>\n",
       "      <td>4.8</td>\n",
       "    </tr>\n",
       "    <tr>\n",
       "      <th>SSC_Marks</th>\n",
       "      <td>10000.0</td>\n",
       "      <td>69.15940</td>\n",
       "      <td>10.430459</td>\n",
       "      <td>55.0</td>\n",
       "      <td>59.0</td>\n",
       "      <td>70.0</td>\n",
       "      <td>78.0</td>\n",
       "      <td>90.0</td>\n",
       "    </tr>\n",
       "    <tr>\n",
       "      <th>HSC_Marks</th>\n",
       "      <td>10000.0</td>\n",
       "      <td>74.50150</td>\n",
       "      <td>8.919527</td>\n",
       "      <td>57.0</td>\n",
       "      <td>67.0</td>\n",
       "      <td>73.0</td>\n",
       "      <td>83.0</td>\n",
       "      <td>88.0</td>\n",
       "    </tr>\n",
       "  </tbody>\n",
       "</table>\n",
       "</div>"
      ],
      "text/plain": [
       "                            count      mean        std   min   25%   50%  \\\n",
       "CGPA                      10000.0   7.69801   0.640131   6.5   7.4   7.7   \n",
       "Internships               10000.0   1.04920   0.665901   0.0   1.0   1.0   \n",
       "Projects                  10000.0   2.02660   0.867968   0.0   1.0   2.0   \n",
       "Workshops/Certifications  10000.0   1.01320   0.904272   0.0   0.0   1.0   \n",
       "AptitudeTestScore         10000.0  79.44990   8.159997  60.0  73.0  80.0   \n",
       "SoftSkillsRating          10000.0   4.32396   0.411622   3.0   4.0   4.4   \n",
       "SSC_Marks                 10000.0  69.15940  10.430459  55.0  59.0  70.0   \n",
       "HSC_Marks                 10000.0  74.50150   8.919527  57.0  67.0  73.0   \n",
       "\n",
       "                           75%   max  \n",
       "CGPA                       8.2   9.1  \n",
       "Internships                1.0   2.0  \n",
       "Projects                   3.0   3.0  \n",
       "Workshops/Certifications   2.0   3.0  \n",
       "AptitudeTestScore         87.0  90.0  \n",
       "SoftSkillsRating           4.7   4.8  \n",
       "SSC_Marks                 78.0  90.0  \n",
       "HSC_Marks                 83.0  88.0  "
      ]
     },
     "metadata": {},
     "output_type": "display_data"
    }
   ],
   "source": [
    "# Summary statistics for numerical columns\n",
    "print(\"Numerical Summary:\")\n",
    "display(df.describe().T)"
   ]
  },
  {
   "cell_type": "code",
   "execution_count": 6,
   "id": "16758e03",
   "metadata": {},
   "outputs": [
    {
     "name": "stdout",
     "output_type": "stream",
     "text": [
      "Categorical Summary:\n"
     ]
    },
    {
     "data": {
      "text/html": [
       "<div>\n",
       "<style scoped>\n",
       "    .dataframe tbody tr th:only-of-type {\n",
       "        vertical-align: middle;\n",
       "    }\n",
       "\n",
       "    .dataframe tbody tr th {\n",
       "        vertical-align: top;\n",
       "    }\n",
       "\n",
       "    .dataframe thead th {\n",
       "        text-align: right;\n",
       "    }\n",
       "</style>\n",
       "<table border=\"1\" class=\"dataframe\">\n",
       "  <thead>\n",
       "    <tr style=\"text-align: right;\">\n",
       "      <th></th>\n",
       "      <th>count</th>\n",
       "      <th>unique</th>\n",
       "      <th>top</th>\n",
       "      <th>freq</th>\n",
       "    </tr>\n",
       "  </thead>\n",
       "  <tbody>\n",
       "    <tr>\n",
       "      <th>ExtracurricularActivities</th>\n",
       "      <td>10000</td>\n",
       "      <td>2</td>\n",
       "      <td>Yes</td>\n",
       "      <td>5854</td>\n",
       "    </tr>\n",
       "    <tr>\n",
       "      <th>PlacementTraining</th>\n",
       "      <td>10000</td>\n",
       "      <td>2</td>\n",
       "      <td>Yes</td>\n",
       "      <td>7318</td>\n",
       "    </tr>\n",
       "    <tr>\n",
       "      <th>PlacementStatus</th>\n",
       "      <td>10000</td>\n",
       "      <td>2</td>\n",
       "      <td>NotPlaced</td>\n",
       "      <td>5803</td>\n",
       "    </tr>\n",
       "  </tbody>\n",
       "</table>\n",
       "</div>"
      ],
      "text/plain": [
       "                           count unique        top  freq\n",
       "ExtracurricularActivities  10000      2        Yes  5854\n",
       "PlacementTraining          10000      2        Yes  7318\n",
       "PlacementStatus            10000      2  NotPlaced  5803"
      ]
     },
     "metadata": {},
     "output_type": "display_data"
    }
   ],
   "source": [
    "# Summary statistics for categorical columns\n",
    "print(\"Categorical Summary:\")\n",
    "display(df.describe(include=[object]).T)"
   ]
  },
  {
   "cell_type": "code",
   "execution_count": 7,
   "id": "78c382b7",
   "metadata": {},
   "outputs": [
    {
     "name": "stdout",
     "output_type": "stream",
     "text": [
      "The dataset contains 10,000 rows and 11 columns.\n"
     ]
    }
   ],
   "source": [
    "# Checking the shape of the dataset (rows, columns)\n",
    "print(f\"The dataset contains {df.shape[0]:,} rows and {df.shape[1]} columns.\")"
   ]
  },
  {
   "cell_type": "code",
   "execution_count": 8,
   "id": "ea093b61",
   "metadata": {},
   "outputs": [
    {
     "name": "stdout",
     "output_type": "stream",
     "text": [
      "The dataset columns include:\n"
     ]
    },
    {
     "data": {
      "text/plain": [
       "Index(['CGPA', 'Internships', 'Projects', 'Workshops/Certifications',\n",
       "       'AptitudeTestScore', 'SoftSkillsRating', 'ExtracurricularActivities',\n",
       "       'PlacementTraining', 'SSC_Marks', 'HSC_Marks', 'PlacementStatus'],\n",
       "      dtype='object')"
      ]
     },
     "metadata": {},
     "output_type": "display_data"
    }
   ],
   "source": [
    "# Getting the column for the dataframe\n",
    "print(f\"The dataset columns include:\")\n",
    "display(df.columns)"
   ]
  },
  {
   "cell_type": "markdown",
   "id": "f70325c6",
   "metadata": {},
   "source": [
    "---"
   ]
  },
  {
   "cell_type": "markdown",
   "id": "1131744d",
   "metadata": {},
   "source": [
    "<a id=\"missing\"></a>\n",
    "\n",
    "## **1.3 Handling Missing Values**\n",
    "\n",
    "We identify missing values and apply appropriate strategies to handle them."
   ]
  },
  {
   "cell_type": "code",
   "execution_count": 9,
   "id": "5a29a9c4",
   "metadata": {},
   "outputs": [
    {
     "name": "stdout",
     "output_type": "stream",
     "text": [
      "Missing Values per Column:\n"
     ]
    },
    {
     "data": {
      "text/plain": [
       "CGPA                         0\n",
       "Internships                  0\n",
       "Projects                     0\n",
       "Workshops/Certifications     0\n",
       "AptitudeTestScore            0\n",
       "SoftSkillsRating             0\n",
       "ExtracurricularActivities    0\n",
       "PlacementTraining            0\n",
       "SSC_Marks                    0\n",
       "HSC_Marks                    0\n",
       "PlacementStatus              0\n",
       "dtype: int64"
      ]
     },
     "metadata": {},
     "output_type": "display_data"
    }
   ],
   "source": [
    "# Check for missing values\n",
    "print(\"Missing Values per Column:\")\n",
    "display(df.isnull().sum())"
   ]
  },
  {
   "cell_type": "markdown",
   "id": "a91a95b4",
   "metadata": {},
   "source": [
    "---"
   ]
  },
  {
   "cell_type": "markdown",
   "id": "5729139b",
   "metadata": {},
   "source": [
    "<a id=\"duplicates\"></a>\n",
    "\n",
    "## **1.4 Remove Duplicate Records**\n",
    "\n",
    "To ensure data quality, we check and remove duplicate rows."
   ]
  },
  {
   "cell_type": "code",
   "execution_count": 10,
   "id": "47d355e5",
   "metadata": {},
   "outputs": [
    {
     "name": "stdout",
     "output_type": "stream",
     "text": [
      "Duplicate Rows Found: 72\n"
     ]
    }
   ],
   "source": [
    "# Remove duplicate rows\n",
    "print(f\"Duplicate Rows Found: {df.duplicated().sum()}\")"
   ]
  },
  {
   "cell_type": "code",
   "execution_count": 11,
   "id": "70323228",
   "metadata": {},
   "outputs": [
    {
     "name": "stdout",
     "output_type": "stream",
     "text": [
      "Duplicate Rows dropped\n"
     ]
    }
   ],
   "source": [
    "# Dropping Duplicate Rows\n",
    "df.drop_duplicates(inplace=True)\n",
    "print(f\"Duplicate Rows dropped\")"
   ]
  },
  {
   "cell_type": "markdown",
   "id": "81a165f4",
   "metadata": {},
   "source": [
    "---"
   ]
  },
  {
   "cell_type": "markdown",
   "id": "5960aa85",
   "metadata": {},
   "source": [
    "<a id=\"rename\"></a>\n",
    "\n",
    "## **1.5 Rename Columns for Consistency**\n",
    "\n",
    "Standardizing column names improves readability and downstream processing."
   ]
  },
  {
   "cell_type": "code",
   "execution_count": 12,
   "id": "f4444457",
   "metadata": {},
   "outputs": [],
   "source": [
    "# Renaming Columns\n",
    "df.rename(columns={'ExtracurricularActivities':'ECAs',\n",
    "                     'Workshops/Certifications':'Trainings'},inplace=True)\n",
    "\n",
    "# Standardize column names: lowercase and replace spaces with underscores\n",
    "df.columns = df.columns.str.strip().str.lower().str.replace(' ', '_')"
   ]
  },
  {
   "cell_type": "code",
   "execution_count": 13,
   "id": "46e7de1d",
   "metadata": {},
   "outputs": [],
   "source": [
    "# Reset index to avoid any issues from dropped rows\n",
    "df.reset_index(drop=True, inplace=True)"
   ]
  },
  {
   "cell_type": "markdown",
   "id": "b0a6f291",
   "metadata": {},
   "source": [
    "#### Observations from the Placement Dataset:\n",
    "\n",
    "1. **Dataset Dimensions**:  \n",
    "   - The dataset contains **10,000 rows** and **11 columns**.  \n",
    "   - After removing **72 duplicate rows**, the final dataset size remains **9,928 rows** (assuming all were removed).  \n",
    "\n",
    "2. **Data Quality**:  \n",
    "   - **No missing values** are present across all columns.  \n",
    "   - **Duplicates were found** (72 rows) but were successfully removed.  \n",
    "\n",
    "3. **Numerical Features Summary**:  \n",
    "   - **CGPA** ranges from **6.5 to 9.1**, with a mean of **7.70**.  \n",
    "   - **Internships** range between **0 and 2**, with most students having **1 internship** on average.  \n",
    "   - **Projects** range between **0 and 3**, with a mean of **2.03**.  \n",
    "   - **Workshops/Certifications** renamed as **Trainings** vary between **0 and 3**, averaging **1.01** per student.  \n",
    "   - **Aptitude Test Score** is between **60 and 90**, with an average score of **79.45**.  \n",
    "   - **Soft Skills Rating** ranges from **3.0 to 4.8**, with an average of **4.32**.  \n",
    "   - **SSC Marks** vary from **55% to 90%**, with a mean of **69.16%**.  \n",
    "   - **HSC Marks** range from **57% to 88%**, averaging **74.50%**.  \n",
    "\n",
    "4. **Categorical Features Summary**:  \n",
    "   - **Extracurricular Activities**: **Two categories** (\"Yes\" / \"No\"), with **5,854 students** engaged in extracurricular activities.  \n",
    "   - **Placement Training**: **Two categories** (\"Yes\" / \"No\"), with **7,318 students** having taken placement training.  \n",
    "   - **Placement Status**: **Two categories** (\"Placed\" / \"Not Placed\"), with **5,801 students not placed**, making up the majority.  \n",
    "\n",
    "5. **Observations**:  \n",
    "   - Most students have a **CGPA around 7.7** and **one internship**.  \n",
    "   - **Aptitude Test Score and Soft Skills Rating** show a generally high performance.  \n",
    "   - **Placement Training is common**, suggesting its importance in securing a job.  \n",
    "   - Despite having **strong academic and skill-based metrics**, many students remain **unplaced**, indicating other factors may influence placement outcomes."
   ]
  },
  {
   "cell_type": "markdown",
   "id": "c1fb9285",
   "metadata": {},
   "source": [
    "---"
   ]
  },
  {
   "cell_type": "markdown",
   "id": "84272078",
   "metadata": {},
   "source": [
    "<a id=\"save\"></a>\n",
    "\n",
    "## **1.6 Save the Cleaned Dataset**\n",
    "\n",
    "After completing the data cleaning and preprocessing steps, save the cleaned dataset to a CSV file for future use and reproducibility."
   ]
  },
  {
   "cell_type": "code",
   "execution_count": 14,
   "id": "d3c0e57e",
   "metadata": {},
   "outputs": [],
   "source": [
    "# Create a clean copy of the DataFrame for further processing and cleaning steps.\n",
    "df_clean = df.copy()"
   ]
  },
  {
   "cell_type": "code",
   "execution_count": 15,
   "id": "21314584",
   "metadata": {},
   "outputs": [
    {
     "data": {
      "text/html": [
       "<div>\n",
       "<style scoped>\n",
       "    .dataframe tbody tr th:only-of-type {\n",
       "        vertical-align: middle;\n",
       "    }\n",
       "\n",
       "    .dataframe tbody tr th {\n",
       "        vertical-align: top;\n",
       "    }\n",
       "\n",
       "    .dataframe thead th {\n",
       "        text-align: right;\n",
       "    }\n",
       "</style>\n",
       "<table border=\"1\" class=\"dataframe\">\n",
       "  <thead>\n",
       "    <tr style=\"text-align: right;\">\n",
       "      <th></th>\n",
       "      <th>cgpa</th>\n",
       "      <th>internships</th>\n",
       "      <th>projects</th>\n",
       "      <th>trainings</th>\n",
       "      <th>aptitudetestscore</th>\n",
       "      <th>softskillsrating</th>\n",
       "      <th>ecas</th>\n",
       "      <th>placementtraining</th>\n",
       "      <th>ssc_marks</th>\n",
       "      <th>hsc_marks</th>\n",
       "      <th>placementstatus</th>\n",
       "    </tr>\n",
       "  </thead>\n",
       "  <tbody>\n",
       "    <tr>\n",
       "      <th>0</th>\n",
       "      <td>7.5</td>\n",
       "      <td>1</td>\n",
       "      <td>1</td>\n",
       "      <td>1</td>\n",
       "      <td>65</td>\n",
       "      <td>4.4</td>\n",
       "      <td>No</td>\n",
       "      <td>No</td>\n",
       "      <td>61</td>\n",
       "      <td>79</td>\n",
       "      <td>NotPlaced</td>\n",
       "    </tr>\n",
       "    <tr>\n",
       "      <th>1</th>\n",
       "      <td>8.9</td>\n",
       "      <td>0</td>\n",
       "      <td>3</td>\n",
       "      <td>2</td>\n",
       "      <td>90</td>\n",
       "      <td>4.0</td>\n",
       "      <td>Yes</td>\n",
       "      <td>Yes</td>\n",
       "      <td>78</td>\n",
       "      <td>82</td>\n",
       "      <td>Placed</td>\n",
       "    </tr>\n",
       "    <tr>\n",
       "      <th>2</th>\n",
       "      <td>7.3</td>\n",
       "      <td>1</td>\n",
       "      <td>2</td>\n",
       "      <td>2</td>\n",
       "      <td>82</td>\n",
       "      <td>4.8</td>\n",
       "      <td>Yes</td>\n",
       "      <td>No</td>\n",
       "      <td>79</td>\n",
       "      <td>80</td>\n",
       "      <td>NotPlaced</td>\n",
       "    </tr>\n",
       "    <tr>\n",
       "      <th>3</th>\n",
       "      <td>7.5</td>\n",
       "      <td>1</td>\n",
       "      <td>1</td>\n",
       "      <td>2</td>\n",
       "      <td>85</td>\n",
       "      <td>4.4</td>\n",
       "      <td>Yes</td>\n",
       "      <td>Yes</td>\n",
       "      <td>81</td>\n",
       "      <td>80</td>\n",
       "      <td>Placed</td>\n",
       "    </tr>\n",
       "    <tr>\n",
       "      <th>4</th>\n",
       "      <td>8.3</td>\n",
       "      <td>1</td>\n",
       "      <td>2</td>\n",
       "      <td>2</td>\n",
       "      <td>86</td>\n",
       "      <td>4.5</td>\n",
       "      <td>Yes</td>\n",
       "      <td>Yes</td>\n",
       "      <td>74</td>\n",
       "      <td>88</td>\n",
       "      <td>Placed</td>\n",
       "    </tr>\n",
       "    <tr>\n",
       "      <th>...</th>\n",
       "      <td>...</td>\n",
       "      <td>...</td>\n",
       "      <td>...</td>\n",
       "      <td>...</td>\n",
       "      <td>...</td>\n",
       "      <td>...</td>\n",
       "      <td>...</td>\n",
       "      <td>...</td>\n",
       "      <td>...</td>\n",
       "      <td>...</td>\n",
       "      <td>...</td>\n",
       "    </tr>\n",
       "    <tr>\n",
       "      <th>9923</th>\n",
       "      <td>7.5</td>\n",
       "      <td>1</td>\n",
       "      <td>1</td>\n",
       "      <td>2</td>\n",
       "      <td>72</td>\n",
       "      <td>3.9</td>\n",
       "      <td>Yes</td>\n",
       "      <td>No</td>\n",
       "      <td>85</td>\n",
       "      <td>66</td>\n",
       "      <td>NotPlaced</td>\n",
       "    </tr>\n",
       "    <tr>\n",
       "      <th>9924</th>\n",
       "      <td>7.4</td>\n",
       "      <td>0</td>\n",
       "      <td>1</td>\n",
       "      <td>0</td>\n",
       "      <td>90</td>\n",
       "      <td>4.8</td>\n",
       "      <td>No</td>\n",
       "      <td>No</td>\n",
       "      <td>84</td>\n",
       "      <td>67</td>\n",
       "      <td>Placed</td>\n",
       "    </tr>\n",
       "    <tr>\n",
       "      <th>9925</th>\n",
       "      <td>8.4</td>\n",
       "      <td>1</td>\n",
       "      <td>3</td>\n",
       "      <td>0</td>\n",
       "      <td>70</td>\n",
       "      <td>4.8</td>\n",
       "      <td>Yes</td>\n",
       "      <td>Yes</td>\n",
       "      <td>79</td>\n",
       "      <td>81</td>\n",
       "      <td>Placed</td>\n",
       "    </tr>\n",
       "    <tr>\n",
       "      <th>9926</th>\n",
       "      <td>8.9</td>\n",
       "      <td>0</td>\n",
       "      <td>3</td>\n",
       "      <td>2</td>\n",
       "      <td>87</td>\n",
       "      <td>4.8</td>\n",
       "      <td>Yes</td>\n",
       "      <td>Yes</td>\n",
       "      <td>71</td>\n",
       "      <td>85</td>\n",
       "      <td>Placed</td>\n",
       "    </tr>\n",
       "    <tr>\n",
       "      <th>9927</th>\n",
       "      <td>8.4</td>\n",
       "      <td>0</td>\n",
       "      <td>1</td>\n",
       "      <td>1</td>\n",
       "      <td>66</td>\n",
       "      <td>3.8</td>\n",
       "      <td>No</td>\n",
       "      <td>No</td>\n",
       "      <td>62</td>\n",
       "      <td>66</td>\n",
       "      <td>NotPlaced</td>\n",
       "    </tr>\n",
       "  </tbody>\n",
       "</table>\n",
       "<p>9928 rows × 11 columns</p>\n",
       "</div>"
      ],
      "text/plain": [
       "      cgpa  internships  projects  trainings  aptitudetestscore  \\\n",
       "0      7.5            1         1          1                 65   \n",
       "1      8.9            0         3          2                 90   \n",
       "2      7.3            1         2          2                 82   \n",
       "3      7.5            1         1          2                 85   \n",
       "4      8.3            1         2          2                 86   \n",
       "...    ...          ...       ...        ...                ...   \n",
       "9923   7.5            1         1          2                 72   \n",
       "9924   7.4            0         1          0                 90   \n",
       "9925   8.4            1         3          0                 70   \n",
       "9926   8.9            0         3          2                 87   \n",
       "9927   8.4            0         1          1                 66   \n",
       "\n",
       "      softskillsrating ecas placementtraining  ssc_marks  hsc_marks  \\\n",
       "0                  4.4   No                No         61         79   \n",
       "1                  4.0  Yes               Yes         78         82   \n",
       "2                  4.8  Yes                No         79         80   \n",
       "3                  4.4  Yes               Yes         81         80   \n",
       "4                  4.5  Yes               Yes         74         88   \n",
       "...                ...  ...               ...        ...        ...   \n",
       "9923               3.9  Yes                No         85         66   \n",
       "9924               4.8   No                No         84         67   \n",
       "9925               4.8  Yes               Yes         79         81   \n",
       "9926               4.8  Yes               Yes         71         85   \n",
       "9927               3.8   No                No         62         66   \n",
       "\n",
       "     placementstatus  \n",
       "0          NotPlaced  \n",
       "1             Placed  \n",
       "2          NotPlaced  \n",
       "3             Placed  \n",
       "4             Placed  \n",
       "...              ...  \n",
       "9923       NotPlaced  \n",
       "9924          Placed  \n",
       "9925          Placed  \n",
       "9926          Placed  \n",
       "9927       NotPlaced  \n",
       "\n",
       "[9928 rows x 11 columns]"
      ]
     },
     "metadata": {},
     "output_type": "display_data"
    }
   ],
   "source": [
    "# Display the first and last few rows of the cleaned dataset to verify changes\n",
    "display(df_clean)"
   ]
  },
  {
   "cell_type": "code",
   "execution_count": 16,
   "id": "b8b12890",
   "metadata": {},
   "outputs": [
    {
     "name": "stdout",
     "output_type": "stream",
     "text": [
      "Dataset shape after cleaning:\n",
      "(9928, 11)\n"
     ]
    }
   ],
   "source": [
    "# Check the shape of the dataset after cleaning\n",
    "print(\"Dataset shape after cleaning:\")\n",
    "print(df_clean.shape)"
   ]
  },
  {
   "cell_type": "code",
   "execution_count": 17,
   "id": "80d853cc",
   "metadata": {},
   "outputs": [
    {
     "name": "stdout",
     "output_type": "stream",
     "text": [
      "Dataset info:\n",
      "<class 'pandas.core.frame.DataFrame'>\n",
      "RangeIndex: 9928 entries, 0 to 9927\n",
      "Data columns (total 11 columns):\n",
      " #   Column             Non-Null Count  Dtype  \n",
      "---  ------             --------------  -----  \n",
      " 0   cgpa               9928 non-null   float64\n",
      " 1   internships        9928 non-null   int64  \n",
      " 2   projects           9928 non-null   int64  \n",
      " 3   trainings          9928 non-null   int64  \n",
      " 4   aptitudetestscore  9928 non-null   int64  \n",
      " 5   softskillsrating   9928 non-null   float64\n",
      " 6   ecas               9928 non-null   object \n",
      " 7   placementtraining  9928 non-null   object \n",
      " 8   ssc_marks          9928 non-null   int64  \n",
      " 9   hsc_marks          9928 non-null   int64  \n",
      " 10  placementstatus    9928 non-null   object \n",
      "dtypes: float64(2), int64(6), object(3)\n",
      "memory usage: 853.3+ KB\n"
     ]
    },
    {
     "data": {
      "text/plain": [
       "None"
      ]
     },
     "metadata": {},
     "output_type": "display_data"
    }
   ],
   "source": [
    "# Recheck the dataframe info to verify datatypes and non-null counts\n",
    "print(\"Dataset info:\")\n",
    "display(df_clean.info())"
   ]
  },
  {
   "cell_type": "code",
   "execution_count": 18,
   "id": "0bc981ea",
   "metadata": {},
   "outputs": [
    {
     "name": "stdout",
     "output_type": "stream",
     "text": [
      "Numerical Summary:\n"
     ]
    },
    {
     "data": {
      "text/html": [
       "<div>\n",
       "<style scoped>\n",
       "    .dataframe tbody tr th:only-of-type {\n",
       "        vertical-align: middle;\n",
       "    }\n",
       "\n",
       "    .dataframe tbody tr th {\n",
       "        vertical-align: top;\n",
       "    }\n",
       "\n",
       "    .dataframe thead th {\n",
       "        text-align: right;\n",
       "    }\n",
       "</style>\n",
       "<table border=\"1\" class=\"dataframe\">\n",
       "  <thead>\n",
       "    <tr style=\"text-align: right;\">\n",
       "      <th></th>\n",
       "      <th>cgpa</th>\n",
       "      <th>internships</th>\n",
       "      <th>projects</th>\n",
       "      <th>trainings</th>\n",
       "      <th>aptitudetestscore</th>\n",
       "      <th>softskillsrating</th>\n",
       "      <th>ssc_marks</th>\n",
       "      <th>hsc_marks</th>\n",
       "    </tr>\n",
       "  </thead>\n",
       "  <tbody>\n",
       "    <tr>\n",
       "      <th>count</th>\n",
       "      <td>9928.000000</td>\n",
       "      <td>9928.000000</td>\n",
       "      <td>9928.000000</td>\n",
       "      <td>9928.000000</td>\n",
       "      <td>9928.000000</td>\n",
       "      <td>9928.000000</td>\n",
       "      <td>9928.000000</td>\n",
       "      <td>9928.000000</td>\n",
       "    </tr>\n",
       "    <tr>\n",
       "      <th>mean</th>\n",
       "      <td>7.693946</td>\n",
       "      <td>1.042808</td>\n",
       "      <td>2.019944</td>\n",
       "      <td>1.006849</td>\n",
       "      <td>79.376209</td>\n",
       "      <td>4.320679</td>\n",
       "      <td>69.093372</td>\n",
       "      <td>74.425766</td>\n",
       "    </tr>\n",
       "    <tr>\n",
       "      <th>std</th>\n",
       "      <td>0.639961</td>\n",
       "      <td>0.663699</td>\n",
       "      <td>0.867118</td>\n",
       "      <td>0.903612</td>\n",
       "      <td>8.140884</td>\n",
       "      <td>0.411211</td>\n",
       "      <td>10.428709</td>\n",
       "      <td>8.901786</td>\n",
       "    </tr>\n",
       "    <tr>\n",
       "      <th>min</th>\n",
       "      <td>6.500000</td>\n",
       "      <td>0.000000</td>\n",
       "      <td>0.000000</td>\n",
       "      <td>0.000000</td>\n",
       "      <td>60.000000</td>\n",
       "      <td>3.000000</td>\n",
       "      <td>55.000000</td>\n",
       "      <td>57.000000</td>\n",
       "    </tr>\n",
       "    <tr>\n",
       "      <th>25%</th>\n",
       "      <td>7.400000</td>\n",
       "      <td>1.000000</td>\n",
       "      <td>1.000000</td>\n",
       "      <td>0.000000</td>\n",
       "      <td>73.000000</td>\n",
       "      <td>4.000000</td>\n",
       "      <td>59.000000</td>\n",
       "      <td>67.000000</td>\n",
       "    </tr>\n",
       "    <tr>\n",
       "      <th>50%</th>\n",
       "      <td>7.700000</td>\n",
       "      <td>1.000000</td>\n",
       "      <td>2.000000</td>\n",
       "      <td>1.000000</td>\n",
       "      <td>80.000000</td>\n",
       "      <td>4.400000</td>\n",
       "      <td>70.000000</td>\n",
       "      <td>73.000000</td>\n",
       "    </tr>\n",
       "    <tr>\n",
       "      <th>75%</th>\n",
       "      <td>8.200000</td>\n",
       "      <td>1.000000</td>\n",
       "      <td>3.000000</td>\n",
       "      <td>2.000000</td>\n",
       "      <td>87.000000</td>\n",
       "      <td>4.700000</td>\n",
       "      <td>78.000000</td>\n",
       "      <td>83.000000</td>\n",
       "    </tr>\n",
       "    <tr>\n",
       "      <th>max</th>\n",
       "      <td>9.100000</td>\n",
       "      <td>2.000000</td>\n",
       "      <td>3.000000</td>\n",
       "      <td>3.000000</td>\n",
       "      <td>90.000000</td>\n",
       "      <td>4.800000</td>\n",
       "      <td>90.000000</td>\n",
       "      <td>88.000000</td>\n",
       "    </tr>\n",
       "  </tbody>\n",
       "</table>\n",
       "</div>"
      ],
      "text/plain": [
       "              cgpa  internships     projects    trainings  aptitudetestscore  \\\n",
       "count  9928.000000  9928.000000  9928.000000  9928.000000        9928.000000   \n",
       "mean      7.693946     1.042808     2.019944     1.006849          79.376209   \n",
       "std       0.639961     0.663699     0.867118     0.903612           8.140884   \n",
       "min       6.500000     0.000000     0.000000     0.000000          60.000000   \n",
       "25%       7.400000     1.000000     1.000000     0.000000          73.000000   \n",
       "50%       7.700000     1.000000     2.000000     1.000000          80.000000   \n",
       "75%       8.200000     1.000000     3.000000     2.000000          87.000000   \n",
       "max       9.100000     2.000000     3.000000     3.000000          90.000000   \n",
       "\n",
       "       softskillsrating    ssc_marks    hsc_marks  \n",
       "count       9928.000000  9928.000000  9928.000000  \n",
       "mean           4.320679    69.093372    74.425766  \n",
       "std            0.411211    10.428709     8.901786  \n",
       "min            3.000000    55.000000    57.000000  \n",
       "25%            4.000000    59.000000    67.000000  \n",
       "50%            4.400000    70.000000    73.000000  \n",
       "75%            4.700000    78.000000    83.000000  \n",
       "max            4.800000    90.000000    88.000000  "
      ]
     },
     "metadata": {},
     "output_type": "display_data"
    }
   ],
   "source": [
    "# Summary statistics for numerical columns\n",
    "print(\"Numerical Summary:\")\n",
    "display(df_clean.describe())"
   ]
  },
  {
   "cell_type": "code",
   "execution_count": 19,
   "id": "ab465615",
   "metadata": {},
   "outputs": [
    {
     "name": "stdout",
     "output_type": "stream",
     "text": [
      "Categorical Summary:\n"
     ]
    },
    {
     "data": {
      "text/html": [
       "<div>\n",
       "<style scoped>\n",
       "    .dataframe tbody tr th:only-of-type {\n",
       "        vertical-align: middle;\n",
       "    }\n",
       "\n",
       "    .dataframe tbody tr th {\n",
       "        vertical-align: top;\n",
       "    }\n",
       "\n",
       "    .dataframe thead th {\n",
       "        text-align: right;\n",
       "    }\n",
       "</style>\n",
       "<table border=\"1\" class=\"dataframe\">\n",
       "  <thead>\n",
       "    <tr style=\"text-align: right;\">\n",
       "      <th></th>\n",
       "      <th>ecas</th>\n",
       "      <th>placementtraining</th>\n",
       "      <th>placementstatus</th>\n",
       "    </tr>\n",
       "  </thead>\n",
       "  <tbody>\n",
       "    <tr>\n",
       "      <th>count</th>\n",
       "      <td>9928</td>\n",
       "      <td>9928</td>\n",
       "      <td>9928</td>\n",
       "    </tr>\n",
       "    <tr>\n",
       "      <th>unique</th>\n",
       "      <td>2</td>\n",
       "      <td>2</td>\n",
       "      <td>2</td>\n",
       "    </tr>\n",
       "    <tr>\n",
       "      <th>top</th>\n",
       "      <td>Yes</td>\n",
       "      <td>Yes</td>\n",
       "      <td>NotPlaced</td>\n",
       "    </tr>\n",
       "    <tr>\n",
       "      <th>freq</th>\n",
       "      <td>5784</td>\n",
       "      <td>7246</td>\n",
       "      <td>5801</td>\n",
       "    </tr>\n",
       "  </tbody>\n",
       "</table>\n",
       "</div>"
      ],
      "text/plain": [
       "        ecas placementtraining placementstatus\n",
       "count   9928              9928            9928\n",
       "unique     2                 2               2\n",
       "top      Yes               Yes       NotPlaced\n",
       "freq    5784              7246            5801"
      ]
     },
     "metadata": {},
     "output_type": "display_data"
    }
   ],
   "source": [
    "# Summary statistics for categorical columns\n",
    "print(\"Categorical Summary:\")\n",
    "display(df_clean.describe(include=[object]))"
   ]
  },
  {
   "cell_type": "code",
   "execution_count": 20,
   "id": "4e3dae79",
   "metadata": {},
   "outputs": [],
   "source": [
    "# Save this lightly cleaned dataset for EDA and Dashboard\n",
    "df_clean.to_csv('placement_cleaned.csv', index=False)"
   ]
  },
  {
   "cell_type": "markdown",
   "id": "7035d4fd",
   "metadata": {},
   "source": [
    "#### With these datasets ready, we can now proceed confidently to perform Exploratory Data Analysis (EDA)."
   ]
  },
  {
   "cell_type": "code",
   "execution_count": null,
   "id": "23c86bee",
   "metadata": {},
   "outputs": [],
   "source": []
  }
 ],
 "metadata": {
  "kernelspec": {
   "display_name": "base",
   "language": "python",
   "name": "python3"
  },
  "language_info": {
   "codemirror_mode": {
    "name": "ipython",
    "version": 3
   },
   "file_extension": ".py",
   "mimetype": "text/x-python",
   "name": "python",
   "nbconvert_exporter": "python",
   "pygments_lexer": "ipython3",
   "version": "3.12.4"
  }
 },
 "nbformat": 4,
 "nbformat_minor": 5
}
