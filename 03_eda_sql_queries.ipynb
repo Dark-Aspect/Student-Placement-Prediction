{
 "cells": [
  {
   "cell_type": "markdown",
   "id": "41e96744",
   "metadata": {},
   "source": [
    "<div style=\"text-align: center;\">\n",
    "  <img src=\"Images/Placement.png\" alt=\"Placement Illustration\" width=\"600\"/>\n",
    "</div>"
   ]
  },
  {
   "cell_type": "markdown",
   "id": "8aa6bc81",
   "metadata": {},
   "source": [
    "## Hello!\n",
    "This is a project utilizing the **Placement Prediction Dataset** to analyze and predict student placement outcomes. By exploring this dataset, we aim to identify key factors that influence placement success and develop machine learning models for accurate classification of placement status.  \n",
    "\n",
    "The dataset, available on [Kaggle](https://www.kaggle.com/datasets/ruchikakumbhar/placement-prediction-dataset), contains **10,000 rows** and **12 columns**, providing detailed academic and extracurricular records of students, along with their placement status. It is well-structured with no missing values, making it suitable for analysis and classification tasks. "
   ]
  },
  {
   "cell_type": "markdown",
   "id": "dcc79eaf",
   "metadata": {},
   "source": [
    "#### Dataset Overview\n",
    "The dataset includes the following features:  \n",
    "\n",
    "1. **CGPA**: Cumulative Grade Point Average, representing a student’s overall academic performance.  \n",
    "2. **Internships**: The number of internships completed by a student.  \n",
    "3. **Projects**: Number of projects undertaken by the student.  \n",
    "4. **Workshops/Certifications**: Participation in workshops and online courses for skill enhancement.  \n",
    "5. **Aptitude Test Score**: Measures a student’s quantitative and logical reasoning skills, often used in recruitment.  \n",
    "6. **Soft Skills Rating**: Assesses communication and interpersonal skills.  \n",
    "7. **Extracurricular Activities**: Indicates student involvement in non-academic activities.  \n",
    "8. **Placement Training**: Training programs provided by colleges to help students prepare for placement.  \n",
    "9. **SSC & HSC Marks**: Academic performance in Senior Secondary (SSC) and Higher Secondary (HSC) levels.  \n",
    "10. **Placement Status**: The target variable, indicating whether a student was **Placed** or **Not Placed**.  \n",
    "\n",
    "#### Project Inspiration  \n",
    "This project is inspired by the need to analyze key factors affecting student placements and build predictive models to assist career guidance efforts. Understanding the most influential attributes can help students and institutions improve placement strategies.  \n",
    "\n",
    "#### Goals of the Project  \n",
    "1. **Data Analysis**: Explore the dataset to identify trends and correlations among academic, training, and extracurricular features.  \n",
    "2. **Classification Models**: Develop and evaluate machine learning models to predict placement status based on the provided features.  \n",
    "\n",
    "#### Dataset Overview\n",
    "The dataset includes the following features:  \n",
    "\n",
    "1. **CGPA**: Cumulative Grade Point Average, representing a student’s overall academic performance.  \n",
    "2. **Internships**: The number of internships completed by a student.  \n",
    "3. **Projects**: Number of projects undertaken by the student.  \n",
    "4. **Workshops/Certifications**: Participation in workshops and online courses for skill enhancement.  \n",
    "5. **Aptitude Test Score**: Measures a student’s quantitative and logical reasoning skills, often used in recruitment.  \n",
    "6. **Soft Skills Rating**: Assesses communication and interpersonal skills.  \n",
    "7. **Extracurricular Activities**: Indicates student involvement in non-academic activities.  \n",
    "8. **Placement Training**: Training programs provided by colleges to help students prepare for placement.  \n",
    "9. **SSC & HSC Marks**: Academic performance in Senior Secondary (SSC) and Higher Secondary (HSC) levels.  \n",
    "10. **Placement Status**: The target variable, indicating whether a student was **Placed** or **Not Placed**.  \n",
    "\n",
    "#### Project Inspiration  \n",
    "This project is inspired by the need to analyze key factors affecting student placements and build predictive models to assist career guidance efforts. Understanding the most influential attributes can help students and institutions improve placement strategies.  \n",
    "\n",
    "#### Goals of the Project  \n",
    "1. **Data Analysis**: Explore the dataset to identify trends and correlations among academic, training, and extracurricular features.  \n",
    "2. **Classification Models**: Develop and evaluate machine learning models to predict placement status based on the provided features.  \n",
    "\n",
    "> ⚠️ *Disclaimer*: The goal is to build predictive tools and derive insights—not to stereotype or oversimplify student capabilities. Ethical analysis and transparency are essential."
   ]
  },
  {
   "cell_type": "code",
   "execution_count": null,
   "id": "8f86c8ec",
   "metadata": {},
   "outputs": [],
   "source": []
  },
  {
   "cell_type": "markdown",
   "id": "7155cf10",
   "metadata": {},
   "source": [
    "# **Step 3: Exploratory Data Analysis (EDA) – SQL Queries**\n",
    "\n",
    "This notebook focuses on performing **exploratory data analysis using SQL queries** within a Jupyter environment. By using SQL-style queries with the help of `sqlite3`, we can analyze and extract insights from the Placement dataset in a more intuitive and readable way for those familiar with SQL.\n",
    "\n",
    "---\n",
    "\n",
    "### Objectives of This Notebook\n",
    "\n",
    "1. [Import Libraries and Load the Dataset](#import)  \n",
    "2. [Preview the Dataset](#preview)  \n",
    "3. [Run SQL Queries to Answer Key Questions](#queries)  \n",
    "4. [Summary and Key Insights](#summary)\n",
    "\n",
    "\n",
    "---\n",
    "\n",
    "### Key Questions Explored via SQL\n",
    "\n",
    "1. What is the average CGPA by placement status?\n",
    "2. How many internships do students have by placement status?\n",
    "3. What is the average soft skills rating by placement status?\n",
    "4. What is the placement rate by number of projects?\n",
    "5. What is the average aptitude test score by placement status?\n",
    "6. How many students are there by placement status, and what are their average SSC marks?\n",
    "7. What is the average CGPA for each soft skills rating?\n",
    "8. Which placement status group has the highest average aptitude test score?\n",
    "\n",
    "---\n",
    "\n",
    "### Next Steps\n",
    "\n",
    "- Step 5: [Modeling & Prediction](./05_modeling_prediction.ipynb)"
   ]
  },
  {
   "cell_type": "code",
   "execution_count": null,
   "id": "9ac2e556",
   "metadata": {},
   "outputs": [],
   "source": []
  },
  {
   "cell_type": "markdown",
   "id": "e0a89a97",
   "metadata": {},
   "source": [
    "<a id=\"import\"></a>\n",
    "\n",
    "## **3.1 Import Libraries, Load the Dataset, and Connect to the Database**"
   ]
  },
  {
   "cell_type": "markdown",
   "id": "140550b9",
   "metadata": {},
   "source": [
    "We begin by importing the required Python libraries:\n",
    "\n",
    "- **Pandas** for data manipulation and analysis.\n",
    "- **SQLite3** for setting up and querying a local SQL database.\n",
    "- **IPython SQL extension** for running SQL queries directly within the notebook.\n",
    "\n",
    "After loading the **Student Depression** dataset into a pandas DataFrame, we connect it to a local **SQLite** database. This setup enables us to perform SQL-based exploration conveniently within the Jupyter Notebook environment."
   ]
  },
  {
   "cell_type": "code",
   "execution_count": 1,
   "id": "ed3a23f9",
   "metadata": {},
   "outputs": [],
   "source": [
    "# Pandas is a software library written for the Python programming language for data manipulation and analysis.\n",
    "import pandas as pd\n",
    "\n",
    "# sqlite3 is a built-in Python library for creating and interacting with SQLite databases\n",
    "import sqlite3\n",
    "\n",
    "# prettytable is a module used to format tabular data in a readable way (optional)\n",
    "import prettytable"
   ]
  },
  {
   "cell_type": "code",
   "execution_count": 2,
   "id": "6a8768ce",
   "metadata": {},
   "outputs": [],
   "source": [
    "# Load the ipython-sql extension to run SQL queries in Jupyter\n",
    "%load_ext sql\n",
    "\n",
    "# Sets default format for prettytable display\n",
    "prettytable.DEFAULT = 'DEFAULT'"
   ]
  },
  {
   "cell_type": "code",
   "execution_count": 3,
   "id": "8ed941d5",
   "metadata": {},
   "outputs": [],
   "source": [
    "# Create SQLite connection and cursor\n",
    "con = sqlite3.connect(\"placement_analysis.db\")\n",
    "cur = con.cursor()\n",
    "\n",
    "# Connect to the SQLite database for ipython-sql\n",
    "%sql sqlite:///placement_analysis.db"
   ]
  },
  {
   "cell_type": "code",
   "execution_count": 4,
   "id": "6f8964ab",
   "metadata": {},
   "outputs": [
    {
     "data": {
      "text/plain": [
       "9928"
      ]
     },
     "execution_count": 4,
     "metadata": {},
     "output_type": "execute_result"
    }
   ],
   "source": [
    "# Load your cleaned dataset\n",
    "df = pd.read_csv(\"placement_cleaned.csv\")\n",
    "\n",
    "# Save the DataFrame to a new table in the SQLite database\n",
    "df.to_sql(\"PlacementAnalysis\", con, if_exists='replace', index=False)"
   ]
  },
  {
   "cell_type": "code",
   "execution_count": 5,
   "id": "8f5176dd",
   "metadata": {},
   "outputs": [
    {
     "name": "stdout",
     "output_type": "stream",
     "text": [
      " * sqlite:///placement_analysis.db\n",
      "Done.\n"
     ]
    },
    {
     "data": {
      "text/plain": [
       "[]"
      ]
     },
     "execution_count": 5,
     "metadata": {},
     "output_type": "execute_result"
    }
   ],
   "source": [
    "# Drop the cleaned query table if it already exists (to avoid duplication)\n",
    "%sql DROP TABLE IF EXISTS PlacementData;"
   ]
  },
  {
   "cell_type": "code",
   "execution_count": 6,
   "id": "f31218cd",
   "metadata": {},
   "outputs": [
    {
     "name": "stdout",
     "output_type": "stream",
     "text": [
      " * sqlite:///placement_analysis.db\n",
      "Done.\n"
     ]
    },
    {
     "data": {
      "text/plain": [
       "[]"
      ]
     },
     "execution_count": 6,
     "metadata": {},
     "output_type": "execute_result"
    }
   ],
   "source": [
    "# Create a new cleaned SQL table with all non-null rows (modify as needed)\n",
    "%sql CREATE TABLE PlacementData AS SELECT * FROM PlacementAnalysis;"
   ]
  },
  {
   "cell_type": "markdown",
   "id": "4464f311",
   "metadata": {},
   "source": [
    "---"
   ]
  },
  {
   "cell_type": "markdown",
   "id": "82fc9eeb",
   "metadata": {},
   "source": [
    "<a id=\"preview\"></a>\n",
    "\n",
    "## **3.2 Preview the Dataset**\n",
    "\n",
    "To understand the structure and content of the dataset, we start by viewing the first few rows using an SQL query:"
   ]
  },
  {
   "cell_type": "code",
   "execution_count": 7,
   "id": "fb8af02f",
   "metadata": {},
   "outputs": [
    {
     "name": "stdout",
     "output_type": "stream",
     "text": [
      " * sqlite:///placement_analysis.db\n",
      "Done.\n"
     ]
    },
    {
     "data": {
      "text/html": [
       "<table>\n",
       "    <thead>\n",
       "        <tr>\n",
       "            <th>cgpa</th>\n",
       "            <th>internships</th>\n",
       "            <th>projects</th>\n",
       "            <th>trainings</th>\n",
       "            <th>aptitudetestscore</th>\n",
       "            <th>softskillsrating</th>\n",
       "            <th>ecas</th>\n",
       "            <th>placementtraining</th>\n",
       "            <th>ssc_marks</th>\n",
       "            <th>hsc_marks</th>\n",
       "            <th>placementstatus</th>\n",
       "        </tr>\n",
       "    </thead>\n",
       "    <tbody>\n",
       "        <tr>\n",
       "            <td>7.5</td>\n",
       "            <td>1</td>\n",
       "            <td>1</td>\n",
       "            <td>1</td>\n",
       "            <td>65</td>\n",
       "            <td>4.4</td>\n",
       "            <td>No</td>\n",
       "            <td>No</td>\n",
       "            <td>61</td>\n",
       "            <td>79</td>\n",
       "            <td>NotPlaced</td>\n",
       "        </tr>\n",
       "        <tr>\n",
       "            <td>8.9</td>\n",
       "            <td>0</td>\n",
       "            <td>3</td>\n",
       "            <td>2</td>\n",
       "            <td>90</td>\n",
       "            <td>4.0</td>\n",
       "            <td>Yes</td>\n",
       "            <td>Yes</td>\n",
       "            <td>78</td>\n",
       "            <td>82</td>\n",
       "            <td>Placed</td>\n",
       "        </tr>\n",
       "        <tr>\n",
       "            <td>7.3</td>\n",
       "            <td>1</td>\n",
       "            <td>2</td>\n",
       "            <td>2</td>\n",
       "            <td>82</td>\n",
       "            <td>4.8</td>\n",
       "            <td>Yes</td>\n",
       "            <td>No</td>\n",
       "            <td>79</td>\n",
       "            <td>80</td>\n",
       "            <td>NotPlaced</td>\n",
       "        </tr>\n",
       "        <tr>\n",
       "            <td>7.5</td>\n",
       "            <td>1</td>\n",
       "            <td>1</td>\n",
       "            <td>2</td>\n",
       "            <td>85</td>\n",
       "            <td>4.4</td>\n",
       "            <td>Yes</td>\n",
       "            <td>Yes</td>\n",
       "            <td>81</td>\n",
       "            <td>80</td>\n",
       "            <td>Placed</td>\n",
       "        </tr>\n",
       "        <tr>\n",
       "            <td>8.3</td>\n",
       "            <td>1</td>\n",
       "            <td>2</td>\n",
       "            <td>2</td>\n",
       "            <td>86</td>\n",
       "            <td>4.5</td>\n",
       "            <td>Yes</td>\n",
       "            <td>Yes</td>\n",
       "            <td>74</td>\n",
       "            <td>88</td>\n",
       "            <td>Placed</td>\n",
       "        </tr>\n",
       "        <tr>\n",
       "            <td>7.0</td>\n",
       "            <td>0</td>\n",
       "            <td>2</td>\n",
       "            <td>2</td>\n",
       "            <td>71</td>\n",
       "            <td>4.2</td>\n",
       "            <td>Yes</td>\n",
       "            <td>No</td>\n",
       "            <td>55</td>\n",
       "            <td>66</td>\n",
       "            <td>NotPlaced</td>\n",
       "        </tr>\n",
       "        <tr>\n",
       "            <td>7.7</td>\n",
       "            <td>1</td>\n",
       "            <td>1</td>\n",
       "            <td>1</td>\n",
       "            <td>76</td>\n",
       "            <td>4.0</td>\n",
       "            <td>No</td>\n",
       "            <td>No</td>\n",
       "            <td>62</td>\n",
       "            <td>65</td>\n",
       "            <td>NotPlaced</td>\n",
       "        </tr>\n",
       "        <tr>\n",
       "            <td>7.7</td>\n",
       "            <td>2</td>\n",
       "            <td>1</td>\n",
       "            <td>0</td>\n",
       "            <td>85</td>\n",
       "            <td>3.5</td>\n",
       "            <td>Yes</td>\n",
       "            <td>Yes</td>\n",
       "            <td>59</td>\n",
       "            <td>72</td>\n",
       "            <td>NotPlaced</td>\n",
       "        </tr>\n",
       "        <tr>\n",
       "            <td>6.5</td>\n",
       "            <td>1</td>\n",
       "            <td>1</td>\n",
       "            <td>0</td>\n",
       "            <td>84</td>\n",
       "            <td>3.9</td>\n",
       "            <td>No</td>\n",
       "            <td>Yes</td>\n",
       "            <td>75</td>\n",
       "            <td>71</td>\n",
       "            <td>NotPlaced</td>\n",
       "        </tr>\n",
       "        <tr>\n",
       "            <td>7.8</td>\n",
       "            <td>1</td>\n",
       "            <td>3</td>\n",
       "            <td>2</td>\n",
       "            <td>79</td>\n",
       "            <td>4.4</td>\n",
       "            <td>Yes</td>\n",
       "            <td>Yes</td>\n",
       "            <td>85</td>\n",
       "            <td>86</td>\n",
       "            <td>Placed</td>\n",
       "        </tr>\n",
       "    </tbody>\n",
       "</table>"
      ],
      "text/plain": [
       "[(7.5, 1, 1, 1, 65, 4.4, 'No', 'No', 61, 79, 'NotPlaced'),\n",
       " (8.9, 0, 3, 2, 90, 4.0, 'Yes', 'Yes', 78, 82, 'Placed'),\n",
       " (7.3, 1, 2, 2, 82, 4.8, 'Yes', 'No', 79, 80, 'NotPlaced'),\n",
       " (7.5, 1, 1, 2, 85, 4.4, 'Yes', 'Yes', 81, 80, 'Placed'),\n",
       " (8.3, 1, 2, 2, 86, 4.5, 'Yes', 'Yes', 74, 88, 'Placed'),\n",
       " (7.0, 0, 2, 2, 71, 4.2, 'Yes', 'No', 55, 66, 'NotPlaced'),\n",
       " (7.7, 1, 1, 1, 76, 4.0, 'No', 'No', 62, 65, 'NotPlaced'),\n",
       " (7.7, 2, 1, 0, 85, 3.5, 'Yes', 'Yes', 59, 72, 'NotPlaced'),\n",
       " (6.5, 1, 1, 0, 84, 3.9, 'No', 'Yes', 75, 71, 'NotPlaced'),\n",
       " (7.8, 1, 3, 2, 79, 4.4, 'Yes', 'Yes', 85, 86, 'Placed')]"
      ]
     },
     "execution_count": 7,
     "metadata": {},
     "output_type": "execute_result"
    }
   ],
   "source": [
    "%%sql\n",
    "SELECT * \n",
    "FROM PlacementData \n",
    "LIMIT 10;"
   ]
  },
  {
   "cell_type": "markdown",
   "id": "d48aa7dc",
   "metadata": {},
   "source": [
    "---"
   ]
  },
  {
   "cell_type": "markdown",
   "id": "0e3e4af4",
   "metadata": {},
   "source": [
    "<a id=\"sql_queries\"></a>\n",
    "\n",
    "## **3.3 Run SQL Queries to Answer Key Questions**\n",
    "\n",
    "Here we run a series of SQL queries to explore and gain insights from the dataset. Each query focuses on a specific question relevant to understanding factors related to placement status."
   ]
  },
  {
   "cell_type": "markdown",
   "id": "0bbda9ef",
   "metadata": {},
   "source": [
    "### 3.3.1 Average CGPA by Placement Status\n",
    "\n",
    "**Description:**\n",
    "Calculate the average CGPA for students based on their placement status (placed or not placed). This highlights how academic performance (CGPA) relates to placement outcomes."
   ]
  },
  {
   "cell_type": "code",
   "execution_count": 8,
   "id": "f0f4df73",
   "metadata": {},
   "outputs": [
    {
     "name": "stdout",
     "output_type": "stream",
     "text": [
      " * sqlite:///placement_analysis.db\n",
      "Done.\n"
     ]
    },
    {
     "data": {
      "text/html": [
       "<table>\n",
       "    <thead>\n",
       "        <tr>\n",
       "            <th>placementstatus</th>\n",
       "            <th>avg_cgpa</th>\n",
       "        </tr>\n",
       "    </thead>\n",
       "    <tbody>\n",
       "        <tr>\n",
       "            <td>NotPlaced</td>\n",
       "            <td>7.468005516290295</td>\n",
       "        </tr>\n",
       "        <tr>\n",
       "            <td>Placed</td>\n",
       "            <td>8.01153380179307</td>\n",
       "        </tr>\n",
       "    </tbody>\n",
       "</table>"
      ],
      "text/plain": [
       "[('NotPlaced', 7.468005516290295), ('Placed', 8.01153380179307)]"
      ]
     },
     "execution_count": 8,
     "metadata": {},
     "output_type": "execute_result"
    }
   ],
   "source": [
    "%%sql\n",
    "SELECT placementstatus, AVG(cgpa) AS avg_cgpa\n",
    "FROM PlacementData\n",
    "GROUP BY placementstatus;"
   ]
  },
  {
   "cell_type": "markdown",
   "id": "a9ab247b",
   "metadata": {},
   "source": [
    "### 3.3.2 Count of Internships by Placement Status\n",
    "\n",
    "**Description:**\n",
    "Count the total number of internships completed by students grouped by their placement status. This reveals whether students with more internship experience tend to be placed more often."
   ]
  },
  {
   "cell_type": "code",
   "execution_count": 9,
   "metadata": {},
   "outputs": [
    {
     "name": "stdout",
     "output_type": "stream",
     "text": [
      " * sqlite:///placement_analysis.db\n",
      "Done.\n"
     ]
    },
    {
     "data": {
      "text/html": [
       "<table>\n",
       "    <thead>\n",
       "        <tr>\n",
       "            <th>placementstatus</th>\n",
       "            <th>total_internships</th>\n",
       "        </tr>\n",
       "    </thead>\n",
       "    <tbody>\n",
       "        <tr>\n",
       "            <td>NotPlaced</td>\n",
       "            <td>5231</td>\n",
       "        </tr>\n",
       "        <tr>\n",
       "            <td>Placed</td>\n",
       "            <td>5122</td>\n",
       "        </tr>\n",
       "    </tbody>\n",
       "</table>"
      ],
      "text/plain": [
       "[('NotPlaced', 5231), ('Placed', 5122)]"
      ]
     },
     "execution_count": 9,
     "metadata": {},
     "output_type": "execute_result"
    }
   ],
   "source": [
    "%%sql\n",
    "SELECT placementstatus, SUM(internships) AS total_internships\n",
    "FROM PlacementData\n",
    "GROUP BY placementstatus;"
   ]
  },
  {
   "cell_type": "markdown",
   "id": "5ffd7c26",
   "metadata": {},
   "source": [
    "### 3.3.3 Average Soft Skills Rating by Placement Status\n",
    "\n",
    "**Description:**\n",
    "Calculate the average soft skills rating for each placement status group. This shows if students with stronger soft skills are more likely to be placed."
   ]
  },
  {
   "cell_type": "code",
   "execution_count": 10,
   "id": "9970c090",
   "metadata": {},
   "outputs": [
    {
     "name": "stdout",
     "output_type": "stream",
     "text": [
      " * sqlite:///placement_analysis.db\n",
      "Done.\n"
     ]
    },
    {
     "data": {
      "text/html": [
       "<table>\n",
       "    <thead>\n",
       "        <tr>\n",
       "            <th>placementstatus</th>\n",
       "            <th>avg_softskills</th>\n",
       "        </tr>\n",
       "    </thead>\n",
       "    <tbody>\n",
       "        <tr>\n",
       "            <td>NotPlaced</td>\n",
       "            <td>4.174366488536459</td>\n",
       "        </tr>\n",
       "        <tr>\n",
       "            <td>Placed</td>\n",
       "            <td>4.526338744850982</td>\n",
       "        </tr>\n",
       "    </tbody>\n",
       "</table>"
      ],
      "text/plain": [
       "[('NotPlaced', 4.174366488536459), ('Placed', 4.526338744850982)]"
      ]
     },
     "execution_count": 10,
     "metadata": {},
     "output_type": "execute_result"
    }
   ],
   "source": [
    "%%sql\n",
    "SELECT placementstatus, AVG(softskillsrating) AS avg_softskills\n",
    "FROM PlacementData\n",
    "GROUP BY placementstatus;"
   ]
  },
  {
   "cell_type": "markdown",
   "id": "a3537fc6",
   "metadata": {},
   "source": [
    "### 3.3.4 Placement Rate by Number of Projects\n",
    "\n",
    "**Description:**\n",
    "Determine the placement rate (percentage of students placed) grouped by the number of projects completed. This helps analyze if project work experience impacts placement outcomes."
   ]
  },
  {
   "cell_type": "code",
   "execution_count": 11,
   "id": "fcf7bc3d",
   "metadata": {},
   "outputs": [
    {
     "name": "stdout",
     "output_type": "stream",
     "text": [
      " * sqlite:///placement_analysis.db\n",
      "Done.\n"
     ]
    },
    {
     "data": {
      "text/html": [
       "<table>\n",
       "    <thead>\n",
       "        <tr>\n",
       "            <th>projects</th>\n",
       "            <th>placementstatus</th>\n",
       "            <th>count</th>\n",
       "        </tr>\n",
       "    </thead>\n",
       "    <tbody>\n",
       "        <tr>\n",
       "            <td>0</td>\n",
       "            <td>NotPlaced</td>\n",
       "            <td>12</td>\n",
       "        </tr>\n",
       "        <tr>\n",
       "            <td>0</td>\n",
       "            <td>Placed</td>\n",
       "            <td>18</td>\n",
       "        </tr>\n",
       "        <tr>\n",
       "            <td>1</td>\n",
       "            <td>NotPlaced</td>\n",
       "            <td>2947</td>\n",
       "        </tr>\n",
       "        <tr>\n",
       "            <td>1</td>\n",
       "            <td>Placed</td>\n",
       "            <td>598</td>\n",
       "        </tr>\n",
       "        <tr>\n",
       "            <td>2</td>\n",
       "            <td>NotPlaced</td>\n",
       "            <td>1750</td>\n",
       "        </tr>\n",
       "        <tr>\n",
       "            <td>2</td>\n",
       "            <td>Placed</td>\n",
       "            <td>800</td>\n",
       "        </tr>\n",
       "        <tr>\n",
       "            <td>3</td>\n",
       "            <td>NotPlaced</td>\n",
       "            <td>1092</td>\n",
       "        </tr>\n",
       "        <tr>\n",
       "            <td>3</td>\n",
       "            <td>Placed</td>\n",
       "            <td>2711</td>\n",
       "        </tr>\n",
       "    </tbody>\n",
       "</table>"
      ],
      "text/plain": [
       "[(0, 'NotPlaced', 12),\n",
       " (0, 'Placed', 18),\n",
       " (1, 'NotPlaced', 2947),\n",
       " (1, 'Placed', 598),\n",
       " (2, 'NotPlaced', 1750),\n",
       " (2, 'Placed', 800),\n",
       " (3, 'NotPlaced', 1092),\n",
       " (3, 'Placed', 2711)]"
      ]
     },
     "execution_count": 11,
     "metadata": {},
     "output_type": "execute_result"
    }
   ],
   "source": [
    "%%sql\n",
    "SELECT projects, placementstatus, COUNT(*) AS count\n",
    "FROM PlacementData\n",
    "GROUP BY projects, placementstatus\n",
    "ORDER BY projects, placementstatus;"
   ]
  },
  {
   "cell_type": "markdown",
   "id": "fa3a6ef4",
   "metadata": {},
   "source": [
    "### 3.3.5 Average Aptitude Test Score by Placement Status\n",
    "\n",
    "**Description:**\n",
    "Calculate the average aptitude test score grouped by placement status. This helps identify whether students with higher aptitude scores are more likely to secure placements."
   ]
  },
  {
   "cell_type": "code",
   "execution_count": 12,
   "id": "466e795f",
   "metadata": {},
   "outputs": [
    {
     "name": "stdout",
     "output_type": "stream",
     "text": [
      " * sqlite:///placement_analysis.db\n",
      "Done.\n"
     ]
    },
    {
     "data": {
      "text/html": [
       "<table>\n",
       "    <thead>\n",
       "        <tr>\n",
       "            <th>placementstatus</th>\n",
       "            <th>avg_aptitude</th>\n",
       "        </tr>\n",
       "    </thead>\n",
       "    <tbody>\n",
       "        <tr>\n",
       "            <td>NotPlaced</td>\n",
       "            <td>75.82933976900534</td>\n",
       "        </tr>\n",
       "        <tr>\n",
       "            <td>Placed</td>\n",
       "            <td>84.3617639932154</td>\n",
       "        </tr>\n",
       "    </tbody>\n",
       "</table>"
      ],
      "text/plain": [
       "[('NotPlaced', 75.82933976900534), ('Placed', 84.3617639932154)]"
      ]
     },
     "execution_count": 12,
     "metadata": {},
     "output_type": "execute_result"
    }
   ],
   "source": [
    "%%sql\n",
    "SELECT placementstatus, AVG(aptitudetestscore) AS avg_aptitude\n",
    "FROM PlacementData\n",
    "GROUP BY placementstatus;"
   ]
  },
  {
   "cell_type": "markdown",
   "id": "1ebc0f81",
   "metadata": {},
   "source": [
    "### 3.3.6 Count of Students Grouped by Placement Status and Average SSC Marks\n",
    "\n",
    "**Description:**\n",
    "Group students by placement status, count them, and calculate the average SSC marks for each group, ordering the result by the average SSC marks in descending order."
   ]
  },
  {
   "cell_type": "code",
   "execution_count": 13,
   "id": "f6ec098d",
   "metadata": {},
   "outputs": [
    {
     "name": "stdout",
     "output_type": "stream",
     "text": [
      " * sqlite:///placement_analysis.db\n",
      "Done.\n"
     ]
    },
    {
     "data": {
      "text/html": [
       "<table>\n",
       "    <thead>\n",
       "        <tr>\n",
       "            <th>placementstatus</th>\n",
       "            <th>StudentCount</th>\n",
       "            <th>AverageSSCMarks</th>\n",
       "        </tr>\n",
       "    </thead>\n",
       "    <tbody>\n",
       "        <tr>\n",
       "            <td>Placed</td>\n",
       "            <td>4127</td>\n",
       "            <td>74.85267748970196</td>\n",
       "        </tr>\n",
       "        <tr>\n",
       "            <td>NotPlaced</td>\n",
       "            <td>5801</td>\n",
       "            <td>64.99603516635062</td>\n",
       "        </tr>\n",
       "    </tbody>\n",
       "</table>"
      ],
      "text/plain": [
       "[('Placed', 4127, 74.85267748970196), ('NotPlaced', 5801, 64.99603516635062)]"
      ]
     },
     "execution_count": 13,
     "metadata": {},
     "output_type": "execute_result"
    }
   ],
   "source": [
    "%%sql\n",
    "SELECT placementstatus, COUNT(*) AS StudentCount, AVG(SSC_Marks) AS AverageSSCMarks\n",
    "FROM PlacementData\n",
    "GROUP BY placementstatus\n",
    "ORDER BY AverageSSCMarks DESC;"
   ]
  },
  {
   "cell_type": "markdown",
   "id": "9b52ec0f",
   "metadata": {},
   "source": [
    "### 3.3.7 Average CGPA for Each Soft Skills Rating\n",
    "\n",
    "**Description:** \n",
    "Calculate the average CGPA for each soft skills rating value, and order the result by average CGPA in descending order to see which soft skills rating is associated with higher CGPA."
   ]
  },
  {
   "cell_type": "code",
   "execution_count": 14,
   "id": "798ef7f8",
   "metadata": {},
   "outputs": [
    {
     "name": "stdout",
     "output_type": "stream",
     "text": [
      " * sqlite:///placement_analysis.db\n",
      "Done.\n"
     ]
    },
    {
     "data": {
      "text/html": [
       "<table>\n",
       "    <thead>\n",
       "        <tr>\n",
       "            <th>softskillsrating</th>\n",
       "            <th>AverageCGPA</th>\n",
       "        </tr>\n",
       "    </thead>\n",
       "    <tbody>\n",
       "        <tr>\n",
       "            <td>4.8</td>\n",
       "            <td>8.08825910931174</td>\n",
       "        </tr>\n",
       "        <tr>\n",
       "            <td>4.7</td>\n",
       "            <td>7.93980463980464</td>\n",
       "        </tr>\n",
       "        <tr>\n",
       "            <td>4.6</td>\n",
       "            <td>7.785678704856787</td>\n",
       "        </tr>\n",
       "        <tr>\n",
       "            <td>4.5</td>\n",
       "            <td>7.740525114155251</td>\n",
       "        </tr>\n",
       "        <tr>\n",
       "            <td>4.4</td>\n",
       "            <td>7.641237113402062</td>\n",
       "        </tr>\n",
       "        <tr>\n",
       "            <td>4.3</td>\n",
       "            <td>7.604086845466155</td>\n",
       "        </tr>\n",
       "        <tr>\n",
       "            <td>4.2</td>\n",
       "            <td>7.52485549132948</td>\n",
       "        </tr>\n",
       "        <tr>\n",
       "            <td>4.1</td>\n",
       "            <td>7.515349544072949</td>\n",
       "        </tr>\n",
       "        <tr>\n",
       "            <td>4.0</td>\n",
       "            <td>7.480310880829016</td>\n",
       "        </tr>\n",
       "        <tr>\n",
       "            <td>3.8</td>\n",
       "            <td>7.46412037037037</td>\n",
       "        </tr>\n",
       "        <tr>\n",
       "            <td>3.9</td>\n",
       "            <td>7.41906779661017</td>\n",
       "        </tr>\n",
       "        <tr>\n",
       "            <td>3.6</td>\n",
       "            <td>7.385477178423237</td>\n",
       "        </tr>\n",
       "        <tr>\n",
       "            <td>3.7</td>\n",
       "            <td>7.380243161094224</td>\n",
       "        </tr>\n",
       "        <tr>\n",
       "            <td>3.4</td>\n",
       "            <td>7.3104</td>\n",
       "        </tr>\n",
       "        <tr>\n",
       "            <td>3.3</td>\n",
       "            <td>7.281927710843373</td>\n",
       "        </tr>\n",
       "        <tr>\n",
       "            <td>3.2</td>\n",
       "            <td>7.251020408163265</td>\n",
       "        </tr>\n",
       "        <tr>\n",
       "            <td>3.5</td>\n",
       "            <td>7.233689839572193</td>\n",
       "        </tr>\n",
       "        <tr>\n",
       "            <td>3.0</td>\n",
       "            <td>7.135</td>\n",
       "        </tr>\n",
       "        <tr>\n",
       "            <td>3.1</td>\n",
       "            <td>7.057142857142857</td>\n",
       "        </tr>\n",
       "    </tbody>\n",
       "</table>"
      ],
      "text/plain": [
       "[(4.8, 8.08825910931174),\n",
       " (4.7, 7.93980463980464),\n",
       " (4.6, 7.785678704856787),\n",
       " (4.5, 7.740525114155251),\n",
       " (4.4, 7.641237113402062),\n",
       " (4.3, 7.604086845466155),\n",
       " (4.2, 7.52485549132948),\n",
       " (4.1, 7.515349544072949),\n",
       " (4.0, 7.480310880829016),\n",
       " (3.8, 7.46412037037037),\n",
       " (3.9, 7.41906779661017),\n",
       " (3.6, 7.385477178423237),\n",
       " (3.7, 7.380243161094224),\n",
       " (3.4, 7.3104),\n",
       " (3.3, 7.281927710843373),\n",
       " (3.2, 7.251020408163265),\n",
       " (3.5, 7.233689839572193),\n",
       " (3.0, 7.135),\n",
       " (3.1, 7.057142857142857)]"
      ]
     },
     "execution_count": 14,
     "metadata": {},
     "output_type": "execute_result"
    }
   ],
   "source": [
    "%%sql\n",
    "SELECT softskillsrating, AVG(cgpa) AS AverageCGPA\n",
    "FROM PlacementData\n",
    "GROUP BY softskillsrating\n",
    "ORDER BY AverageCGPA DESC;"
   ]
  },
  {
   "cell_type": "markdown",
   "id": "2166525e",
   "metadata": {},
   "source": [
    "### 3.3.8 Subquery to Find the Placement Status with Highest Average Aptitude Score\n",
    "\n",
    "**Description:** \n",
    "Use a subquery to calculate the average aptitude test score for each placement status, then retrieve the placement status with the highest average score."
   ]
  },
  {
   "cell_type": "code",
   "execution_count": 15,
   "id": "f3da3dcd",
   "metadata": {},
   "outputs": [
    {
     "name": "stdout",
     "output_type": "stream",
     "text": [
      " * sqlite:///placement_analysis.db\n",
      "Done.\n"
     ]
    },
    {
     "data": {
      "text/html": [
       "<table>\n",
       "    <thead>\n",
       "        <tr>\n",
       "            <th>placementstatus</th>\n",
       "        </tr>\n",
       "    </thead>\n",
       "    <tbody>\n",
       "        <tr>\n",
       "            <td>Placed</td>\n",
       "        </tr>\n",
       "    </tbody>\n",
       "</table>"
      ],
      "text/plain": [
       "[('Placed',)]"
      ]
     },
     "execution_count": 15,
     "metadata": {},
     "output_type": "execute_result"
    }
   ],
   "source": [
    "%%sql\n",
    "SELECT placementstatus\n",
    "FROM (\n",
    "    SELECT placementstatus, AVG(aptitudetestscore) AS AverageAptitudeScore\n",
    "    FROM PlacementData\n",
    "    GROUP BY placementstatus\n",
    ") AS SubQuery\n",
    "ORDER BY AverageAptitudeScore DESC\n",
    "LIMIT 1;"
   ]
  },
  {
   "cell_type": "code",
   "execution_count": 16,
   "id": "c4ada16c",
   "metadata": {},
   "outputs": [],
   "source": [
    "# Commit and close the connection\n",
    "con.commit()\n",
    "con.close()"
   ]
  },
  {
   "cell_type": "markdown",
   "id": "9179e2c3",
   "metadata": {},
   "source": [
    "<a id=\"summary\"></a>\n",
    "\n",
    "## **3.4 Summary and Key Insights**\n",
    "\n",
    "After running the SQL queries, we summarize the key findings and insights to guide the next phases of the project."
   ]
  },
  {
   "cell_type": "markdown",
   "id": "8387d70f",
   "metadata": {},
   "source": [
    "### **Summary**\n",
    "\n",
    "This analysis examined key aspects of student placement outcomes using the dataset provided. We explored how various factors—such as CGPA, internships, soft skills, projects, aptitude scores, SSC marks, and soft skills ratings—relate to placement status. The queries provided quantitative insights into these relationships, helping to identify patterns that correlate with higher placement rates.\n",
    "\n",
    "### **Key Insights**\n",
    "\n",
    "**Average CGPA and Placement**  \n",
    "Students who were placed had a higher average CGPA (**8.01**) compared to those not placed (**7.47**). This suggests that academic performance may play a role in placement outcomes.\n",
    "\n",
    "**Internships Experience**  \n",
    "Interestingly, the total number of internships was similar between placed and not placed students (~**5,200** each). This indicates that internships alone might not be a distinguishing factor.\n",
    "\n",
    "**Soft Skills Matter**  \n",
    "Placed students had a higher average soft skills rating (**4.53**) compared to not placed students (**4.17**). This highlights the potential importance of soft skills development for placement success.\n",
    "\n",
    "**Projects and Placement Rate**  \n",
    "Students with 3 projects had the highest placement rate (**2,711** placed vs. **1,092** not placed). This suggests that hands-on project work could significantly enhance placement opportunities.\n",
    "\n",
    "**Aptitude Test Scores**  \n",
    "Placed students also had higher average aptitude test scores (**84.36**) than those not placed (**75.83**). This underscores the value of strong test performance.\n",
    "\n",
    "**SSC Marks and Placement**  \n",
    "Placed students had higher average SSC marks (**74.85**) compared to not placed students (**64.99**), suggesting that consistent academic performance even at earlier stages can impact placement success.\n",
    "\n",
    "**Soft Skills Rating and CGPA**  \n",
    "There’s a consistent positive trend between higher soft skills ratings and CGPA, with ratings above **4.5** showing average CGPAs above **7.7.** This indicates that students who develop soft skills tend to maintain strong academic performance.\n",
    "\n",
    "**Placement Status with Highest Average Aptitude Score**  \n",
    "The subquery revealed that the \"Placed\" status had the highest average aptitude test score, reinforcing the importance of strong test performance.\n",
    "\n",
    "### **Conclusion**\n",
    "\n",
    "The analysis demonstrates clear trends linking placement outcomes to CGPA, soft skills, aptitude test scores, and project work. While internships alone may not significantly differentiate placement status, other factors collectively contribute to higher placement rates. These insights provide a solid foundation for developing predictive models to forecast placement outcomes based on student profiles, which will be the focus of the next step in this project."
   ]
  },
  {
   "cell_type": "code",
   "execution_count": null,
   "id": "589571b9",
   "metadata": {},
   "outputs": [],
   "source": []
  }
 ],
 "metadata": {
  "kernelspec": {
   "display_name": "base",
   "language": "python",
   "name": "python3"
  },
  "language_info": {
   "codemirror_mode": {
    "name": "ipython",
    "version": 3
   },
   "file_extension": ".py",
   "mimetype": "text/x-python",
   "name": "python",
   "nbconvert_exporter": "python",
   "pygments_lexer": "ipython3",
   "version": "3.12.4"
  }
 },
 "nbformat": 4,
 "nbformat_minor": 5
}
